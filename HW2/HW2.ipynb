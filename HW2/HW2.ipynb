{
 "cells": [
  {
   "cell_type": "code",
   "execution_count": 1,
   "metadata": {
    "collapsed": false
   },
   "outputs": [
    {
     "name": "stderr",
     "output_type": "stream",
     "text": [
      "D:\\Anaconda\\lib\\site-packages\\sklearn\\cross_validation.py:44: DeprecationWarning: This module was deprecated in version 0.18 in favor of the model_selection module into which all the refactored classes and functions are moved. Also note that the interface of the new CV iterators are different from that of this module. This module will be removed in 0.20.\n",
      "  \"This module will be removed in 0.20.\", DeprecationWarning)\n",
      "D:\\Anaconda\\lib\\site-packages\\sklearn\\grid_search.py:43: DeprecationWarning: This module was deprecated in version 0.18 in favor of the model_selection module into which all the refactored classes and functions are moved. This module will be removed in 0.20.\n",
      "  DeprecationWarning)\n"
     ]
    }
   ],
   "source": [
    "import pandas\n",
    "import numpy as np\n",
    "import matplotlib.pyplot as plt\n",
    "from nltk import word_tokenize\n",
    "from nltk.tokenize import wordpunct_tokenize\n",
    "from nltk.corpus import stopwords\n",
    "\n",
    "from sklearn.grid_search import GridSearchCV\n",
    "from sklearn.feature_extraction.text import CountVectorizer, TfidfTransformer\n",
    "from sklearn.naive_bayes import MultinomialNB\n",
    "from sklearn.ensemble import RandomForestClassifier\n",
    "from sklearn.tree import DecisionTreeClassifier\n",
    "from sklearn.metrics import classification_report, f1_score, accuracy_score, confusion_matrix\n",
    "from sklearn.pipeline import Pipeline\n",
    "from sklearn.model_selection import StratifiedKFold, cross_val_score, train_test_split\n",
    "from sklearn.dummy import DummyClassifier\n",
    "from sklearn.metrics import fbeta_score, make_scorer\n",
    "from sklearn import cross_validation\n",
    "from sklearn.base import TransformerMixin\n",
    "\n",
    "from sklearn.model_selection import learning_curve\n",
    "from sklearn.metrics import roc_curve, auc\n",
    "\n",
    "stop_words = stopwords.words('english')"
   ]
  },
  {
   "cell_type": "code",
   "execution_count": 2,
   "metadata": {
    "collapsed": true
   },
   "outputs": [],
   "source": [
    "#Токенизация с удалением знаков препинания\n",
    "def tokenize(text):\n",
    "    text = text.lower()\n",
    "    return word_tokenize(text)\n",
    "\n",
    "#Токенизация с оставленными знаками препинания\n",
    "def tokenize2(text):\n",
    "    text = text.lower()\n",
    "    return wordpunct_tokenize(text)"
   ]
  },
  {
   "cell_type": "code",
   "execution_count": 3,
   "metadata": {
    "collapsed": true
   },
   "outputs": [],
   "source": [
    "#Длина текста\n",
    "def length(text):\n",
    "    return len(text)\n",
    "\n",
    "#Количество восклицательных знаков\n",
    "def exclamation(text):\n",
    "    \"\"\"Сколько !.\"\"\"\n",
    "    return len([letter for letter in list(text) if letter == '!'])\n",
    "\n",
    "#Количество чисел\n",
    "def numbers(text):\n",
    "    return len([letter for letter in list(text) if letter.isdigit()])\n",
    "\n",
    "#Количество типичных для спам-сообщений слов\n",
    "def warning_words(text):\n",
    "    return len([word for word in tokenize(text) if word in spam_words])\n",
    "\n",
    "#Вышеперечисленные фичи формируют Featurizer\n",
    "class FunctionFeaturizer(TransformerMixin):\n",
    "    def __init__(self, *featurizers):\n",
    "        self.featurizers = featurizers\n",
    "\n",
    "    def fit(self, X, y=None):\n",
    "        return self\n",
    "\n",
    "    def transform(self, X):\n",
    "        fvs = []\n",
    "        for datum in X:\n",
    "            fv = [f(datum) for f in self.featurizers]\n",
    "            fvs.append(fv)\n",
    "        return np.array(fvs)"
   ]
  },
  {
   "cell_type": "code",
   "execution_count": 4,
   "metadata": {
    "collapsed": false
   },
   "outputs": [
    {
     "data": {
      "text/html": [
       "<div>\n",
       "<table border=\"1\" class=\"dataframe\">\n",
       "  <thead>\n",
       "    <tr style=\"text-align: right;\">\n",
       "      <th></th>\n",
       "      <th>label</th>\n",
       "      <th>message</th>\n",
       "    </tr>\n",
       "  </thead>\n",
       "  <tbody>\n",
       "    <tr>\n",
       "      <th>0</th>\n",
       "      <td>ham</td>\n",
       "      <td>Go until jurong point, crazy.. Available only ...</td>\n",
       "    </tr>\n",
       "    <tr>\n",
       "      <th>1</th>\n",
       "      <td>ham</td>\n",
       "      <td>Ok lar... Joking wif u oni...</td>\n",
       "    </tr>\n",
       "    <tr>\n",
       "      <th>2</th>\n",
       "      <td>spam</td>\n",
       "      <td>Free entry in 2 a wkly comp to win FA Cup fina...</td>\n",
       "    </tr>\n",
       "    <tr>\n",
       "      <th>3</th>\n",
       "      <td>ham</td>\n",
       "      <td>U dun say so early hor... U c already then say...</td>\n",
       "    </tr>\n",
       "    <tr>\n",
       "      <th>4</th>\n",
       "      <td>ham</td>\n",
       "      <td>Nah I don't think he goes to usf, he lives aro...</td>\n",
       "    </tr>\n",
       "  </tbody>\n",
       "</table>\n",
       "</div>"
      ],
      "text/plain": [
       "  label                                            message\n",
       "0   ham  Go until jurong point, crazy.. Available only ...\n",
       "1   ham                      Ok lar... Joking wif u oni...\n",
       "2  spam  Free entry in 2 a wkly comp to win FA Cup fina...\n",
       "3   ham  U dun say so early hor... U c already then say...\n",
       "4   ham  Nah I don't think he goes to usf, he lives aro..."
      ]
     },
     "execution_count": 4,
     "metadata": {},
     "output_type": "execute_result"
    }
   ],
   "source": [
    "spam_featurizer = FunctionFeaturizer(length, exclamation, numbers, warning_words)  # создание своего векторизатора\n",
    "\n",
    "path = 'D:\\\\SMSSpamCollection'\n",
    "\n",
    "# Чтение из файла\n",
    "messages = pandas.read_csv(path, sep='\\t', names=[\"label\", \"message\"])\n",
    "messages.head()"
   ]
  },
  {
   "cell_type": "code",
   "execution_count": 5,
   "metadata": {
    "collapsed": true
   },
   "outputs": [],
   "source": [
    "messages['length'] = messages['message'].map(lambda text: len(text))"
   ]
  },
  {
   "cell_type": "code",
   "execution_count": 6,
   "metadata": {
    "collapsed": false
   },
   "outputs": [
    {
     "data": {
      "text/plain": [
       "[('.', 924),\n",
       " ('to', 690),\n",
       " ('!', 545),\n",
       " (',', 378),\n",
       " ('a', 377),\n",
       " ('call', 346),\n",
       " ('you', 297),\n",
       " ('your', 263),\n",
       " ('free', 217),\n",
       " ('the', 206),\n",
       " ('for', 203),\n",
       " ('now', 199),\n",
       " ('or', 188),\n",
       " ('&', 178),\n",
       " ('?', 175),\n",
       " ('2', 174),\n",
       " (':', 163),\n",
       " ('is', 158),\n",
       " ('txt', 156),\n",
       " ('on', 145),\n",
       " ('ur', 144),\n",
       " ('u', 141),\n",
       " ('have', 136),\n",
       " ('from', 131),\n",
       " ('mobile', 123),\n",
       " ('and', 122),\n",
       " ('text', 121),\n",
       " ('stop', 118),\n",
       " ('claim', 113),\n",
       " ('with', 109),\n",
       " ('reply', 104),\n",
       " ('4', 95),\n",
       " ('of', 95),\n",
       " ('prize', 92),\n",
       " ('this', 88),\n",
       " ('our', 85),\n",
       " ('get', 84),\n",
       " ('are', 80),\n",
       " ('only', 79),\n",
       " ('just', 79),\n",
       " ('in', 73),\n",
       " ('won', 73),\n",
       " (\"'s\", 72),\n",
       " ('send', 69),\n",
       " ('new', 69),\n",
       " ('t', 68),\n",
       " (')', 66),\n",
       " ('nokia', 65),\n",
       " ('urgent', 63),\n",
       " ('cash', 62)]"
      ]
     },
     "execution_count": 6,
     "metadata": {},
     "output_type": "execute_result"
    }
   ],
   "source": [
    "# Топ-50 спам-слов по частотности\n",
    "from collections import Counter\n",
    "list1 =[]\n",
    "for m in messages.message[messages.label=='spam']:\n",
    "    for word in tokenize(m):\n",
    "        list1.append(word)\n",
    "counts = Counter(list1)\n",
    "\n",
    "counts.most_common(50)"
   ]
  },
  {
   "cell_type": "code",
   "execution_count": 7,
   "metadata": {
    "collapsed": false
   },
   "outputs": [
    {
     "data": {
      "text/html": [
       "<div>\n",
       "<table border=\"1\" class=\"dataframe\">\n",
       "  <thead>\n",
       "    <tr style=\"text-align: right;\">\n",
       "      <th></th>\n",
       "      <th></th>\n",
       "      <th>length</th>\n",
       "    </tr>\n",
       "    <tr>\n",
       "      <th>label</th>\n",
       "      <th></th>\n",
       "      <th></th>\n",
       "    </tr>\n",
       "  </thead>\n",
       "  <tbody>\n",
       "    <tr>\n",
       "      <th rowspan=\"8\" valign=\"top\">ham</th>\n",
       "      <th>count</th>\n",
       "      <td>4825.000000</td>\n",
       "    </tr>\n",
       "    <tr>\n",
       "      <th>mean</th>\n",
       "      <td>71.482487</td>\n",
       "    </tr>\n",
       "    <tr>\n",
       "      <th>std</th>\n",
       "      <td>58.440652</td>\n",
       "    </tr>\n",
       "    <tr>\n",
       "      <th>min</th>\n",
       "      <td>2.000000</td>\n",
       "    </tr>\n",
       "    <tr>\n",
       "      <th>25%</th>\n",
       "      <td>33.000000</td>\n",
       "    </tr>\n",
       "    <tr>\n",
       "      <th>50%</th>\n",
       "      <td>52.000000</td>\n",
       "    </tr>\n",
       "    <tr>\n",
       "      <th>75%</th>\n",
       "      <td>93.000000</td>\n",
       "    </tr>\n",
       "    <tr>\n",
       "      <th>max</th>\n",
       "      <td>910.000000</td>\n",
       "    </tr>\n",
       "    <tr>\n",
       "      <th rowspan=\"8\" valign=\"top\">spam</th>\n",
       "      <th>count</th>\n",
       "      <td>747.000000</td>\n",
       "    </tr>\n",
       "    <tr>\n",
       "      <th>mean</th>\n",
       "      <td>138.670683</td>\n",
       "    </tr>\n",
       "    <tr>\n",
       "      <th>std</th>\n",
       "      <td>28.873603</td>\n",
       "    </tr>\n",
       "    <tr>\n",
       "      <th>min</th>\n",
       "      <td>13.000000</td>\n",
       "    </tr>\n",
       "    <tr>\n",
       "      <th>25%</th>\n",
       "      <td>133.000000</td>\n",
       "    </tr>\n",
       "    <tr>\n",
       "      <th>50%</th>\n",
       "      <td>149.000000</td>\n",
       "    </tr>\n",
       "    <tr>\n",
       "      <th>75%</th>\n",
       "      <td>157.000000</td>\n",
       "    </tr>\n",
       "    <tr>\n",
       "      <th>max</th>\n",
       "      <td>223.000000</td>\n",
       "    </tr>\n",
       "  </tbody>\n",
       "</table>\n",
       "</div>"
      ],
      "text/plain": [
       "                  length\n",
       "label                   \n",
       "ham   count  4825.000000\n",
       "      mean     71.482487\n",
       "      std      58.440652\n",
       "      min       2.000000\n",
       "      25%      33.000000\n",
       "      50%      52.000000\n",
       "      75%      93.000000\n",
       "      max     910.000000\n",
       "spam  count   747.000000\n",
       "      mean    138.670683\n",
       "      std      28.873603\n",
       "      min      13.000000\n",
       "      25%     133.000000\n",
       "      50%     149.000000\n",
       "      75%     157.000000\n",
       "      max     223.000000"
      ]
     },
     "execution_count": 7,
     "metadata": {},
     "output_type": "execute_result"
    }
   ],
   "source": [
    "#Насколько сбалансирован датасет?\n",
    "messages.groupby('label').describe()\n",
    "#хм... не очень сбалансирован. 4825 не-спама к 747 спама"
   ]
  },
  {
   "cell_type": "code",
   "execution_count": 8,
   "metadata": {
    "collapsed": true
   },
   "outputs": [],
   "source": [
    "#Переводим str в int и ham/spam в 0/1\n",
    "messages['label'] = messages['label'].map({'ham': 0, 'spam': 1}).astype(int)"
   ]
  },
  {
   "cell_type": "code",
   "execution_count": 9,
   "metadata": {
    "collapsed": true
   },
   "outputs": [],
   "source": [
    "#  Тренировочная выборка/Тестовая выборка 80 к 20\n",
    "msg_train, msg_test, label_train, label_test = train_test_split(messages['message'], messages['label'], test_size=0.2)"
   ]
  },
  {
   "cell_type": "code",
   "execution_count": 10,
   "metadata": {
    "collapsed": true
   },
   "outputs": [],
   "source": [
    "# Векторизация\n",
    "bow = CountVectorizer()\n",
    "bow.fit_transform(msg_train)\n",
    "train_bowed_messages = bow.transform(msg_train)\n",
    "test_bowed_messages = bow.transform(msg_test)"
   ]
  },
  {
   "cell_type": "code",
   "execution_count": 11,
   "metadata": {
    "collapsed": false
   },
   "outputs": [
    {
     "name": "stdout",
     "output_type": "stream",
     "text": [
      "             precision    recall  f1-score   support\n",
      "\n",
      "          0       0.86      1.00      0.92       956\n",
      "          1       0.00      0.00      0.00       159\n",
      "\n",
      "avg / total       0.74      0.86      0.79      1115\n",
      "\n"
     ]
    },
    {
     "name": "stderr",
     "output_type": "stream",
     "text": [
      "D:\\Anaconda\\lib\\site-packages\\sklearn\\metrics\\classification.py:1113: UndefinedMetricWarning: Precision and F-score are ill-defined and being set to 0.0 in labels with no predicted samples.\n",
      "  'precision', 'predicted', average, warn_for)\n"
     ]
    }
   ],
   "source": [
    "#Dummy Classifier + результаты\n",
    "clf = DummyClassifier(strategy='most_frequent', random_state=0)\n",
    "clf = clf.fit(train_bowed_messages, label_train)\n",
    "\n",
    "print(classification_report(label_test, clf.predict(test_bowed_messages)))\n",
    "#Если я правильно понял, то класификатор тупо помечает все сообщения как не-спам и благодаря этому у него получается такой\n",
    "#высокий precision. Гениально(на самом деле ужасно)"
   ]
  },
  {
   "cell_type": "code",
   "execution_count": 12,
   "metadata": {
    "collapsed": false
   },
   "outputs": [
    {
     "name": "stdout",
     "output_type": "stream",
     "text": [
      "0.968653328653 0.0170837384797\n",
      "             precision    recall  f1-score   support\n",
      "\n",
      "          0       0.98      0.99      0.99       956\n",
      "          1       0.95      0.89      0.92       159\n",
      "\n",
      "avg / total       0.98      0.98      0.98      1115\n",
      "\n"
     ]
    }
   ],
   "source": [
    "#Naive Bayes\n",
    "naive_model = MultinomialNB()\n",
    "naive_model.fit(train_bowed_messages, label_train)\n",
    "\n",
    "cv_results = cross_val_score(naive_model, test_bowed_messages, label_test, cv=10, scoring='accuracy')\n",
    "print(cv_results.mean(), cv_results.std())\n",
    "print(classification_report(label_test, naive_model.predict(test_bowed_messages)))\n",
    "#вот это очень хорошо"
   ]
  },
  {
   "cell_type": "code",
   "execution_count": 13,
   "metadata": {
    "collapsed": true
   },
   "outputs": [],
   "source": [
    "def trainmodel(steps):\n",
    "    pipeline = Pipeline(steps=steps)\n",
    "\n",
    "    cv_results = cross_val_score(pipeline,\n",
    "                                 msg_train,\n",
    "                                 label_train,\n",
    "                                 cv=10,\n",
    "                                 scoring='accuracy',\n",
    "                                 )\n",
    "    print(cv_results.mean(), cv_results.std())\n",
    "\n",
    "    pipeline.fit(msg_train, label_train)\n",
    "    label_predicted = pipeline.predict(msg_test)\n",
    "    print(label_predicted)\n",
    "\n",
    "    print(classification_report(label_test, label_predicted ))\n",
    "\n",
    "    return pipeline, label_predicted"
   ]
  },
  {
   "cell_type": "code",
   "execution_count": 14,
   "metadata": {
    "collapsed": true
   },
   "outputs": [],
   "source": [
    "def draw_learning_curve(pipeline):\n",
    "    train_sizes, train_scores, valid_scores = learning_curve(pipeline, \n",
    "                                                             msg_train, \n",
    "                                                             label_train,\n",
    "                                                             train_sizes=[50, 80, 110], \n",
    "                                                             cv=5)\n",
    "    train_scores_mean = np.mean(train_scores, axis=1)\n",
    "    train_scores_std = np.std(train_scores, axis=1)\n",
    "    test_scores_mean = np.mean(valid_scores, axis=1)\n",
    "    test_scores_std = np.std(valid_scores, axis=1)\n",
    "\n",
    "    plt.grid()\n",
    "    plt.xlabel(\"Training examples\")\n",
    "    plt.ylabel(\"Score\")\n",
    "    plt.fill_between(train_sizes, train_scores_mean - train_scores_std,\n",
    "                     train_scores_mean + train_scores_std, alpha=0.1,\n",
    "                     color=\"r\")\n",
    "    plt.fill_between(train_sizes, test_scores_mean - test_scores_std,\n",
    "                     test_scores_mean + test_scores_std, alpha=0.1, color=\"g\")\n",
    "    plt.plot(train_sizes, train_scores_mean, 'o-', color=\"r\",\n",
    "             label=\"Training score\")\n",
    "    plt.plot(train_sizes, test_scores_mean, 'o-', color=\"g\",\n",
    "             label=\"Cross-validation score\")\n",
    "\n",
    "    plt.legend(loc=\"best\")\n",
    "    plt.show()"
   ]
  },
  {
   "cell_type": "code",
   "execution_count": 15,
   "metadata": {
    "collapsed": true
   },
   "outputs": [],
   "source": [
    "def draw_roc_curve(label_predicted):\n",
    "    false_positive_rate, true_positive_rate, thresholds = roc_curve(label_test, label_predicted)\n",
    "    roc_auc = auc(false_positive_rate, true_positive_rate)\n",
    "    plt.title('Receiver Operating Characteristic')\n",
    "    plt.plot(false_positive_rate, true_positive_rate, 'b',\n",
    "             label='AUC = %0.2f' % roc_auc)\n",
    "    plt.legend(loc='lower right')\n",
    "    plt.plot([0, 1], [0, 1], 'r--')\n",
    "    plt.xlim([-0.1, 1.2])\n",
    "    plt.ylim([-0.1, 1.2])\n",
    "    plt.ylabel('True Positive Rate')\n",
    "    plt.xlabel('False Positive Rate')\n",
    "    plt.show()"
   ]
  },
  {
   "cell_type": "code",
   "execution_count": 16,
   "metadata": {
    "collapsed": false
   },
   "outputs": [
    {
     "name": "stdout",
     "output_type": "stream",
     "text": [
      "0.984520064984 0.00406243315594\n",
      "[0 0 0 ..., 0 0 0]\n",
      "             precision    recall  f1-score   support\n",
      "\n",
      "          0       0.98      0.99      0.99       956\n",
      "          1       0.95      0.89      0.92       159\n",
      "\n",
      "avg / total       0.98      0.98      0.98      1115\n",
      "\n"
     ]
    },
    {
     "data": {
      "image/png": "[encoded data removed]",
      "text/plain": [
       "<matplotlib.figure.Figure at 0x26afbcfd320>"
      ]
     },
     "metadata": {},
     "output_type": "display_data"
    },
    {
     "data": {
      "image/png": "[encoded data removed]",
      "text/plain": [
       "<matplotlib.figure.Figure at 0x26afbe7ae48>"
      ]
     },
     "metadata": {},
     "output_type": "display_data"
    }
   ],
   "source": [
    "# Токенизация с удаленными знаками препинания, Naive Bayes\n",
    "pipeline, label_predicted = trainmodel(steps=[('bow', CountVectorizer(analyzer=tokenize)),('classifier', MultinomialNB())])\n",
    "\n",
    "draw_learning_curve(pipeline)\n",
    "draw_roc_curve(label_predicted)\n",
    "#Судя по roc-curve, классификатор показывает высокие результаты,\n",
    "#AUC-value очень высокий, roc-curve почти параллельна оси х.\n",
    "#Learning curve показывает, что при увеличении обучающих данных, cross-validation score может незначительно улучшиться,\n",
    "#training score при этом не изменится (останется максимальным)"
   ]
  },
  {
   "cell_type": "code",
   "execution_count": 17,
   "metadata": {
    "collapsed": false
   },
   "outputs": [
    {
     "name": "stdout",
     "output_type": "stream",
     "text": [
      "0.989680043322 0.00377640810895\n",
      "[0 0 0 ..., 0 0 0]\n",
      "             precision    recall  f1-score   support\n",
      "\n",
      "          0       0.98      0.99      0.99       956\n",
      "          1       0.97      0.91      0.94       159\n",
      "\n",
      "avg / total       0.98      0.98      0.98      1115\n",
      "\n"
     ]
    }
   ],
   "source": [
    "#  Naive Bayes, токенизация с оставленными знаками препинания\n",
    "pipeline, label_predicted = trainmodel(steps=[('bow', CountVectorizer(analyzer=tokenize2)),('classifier', MultinomialNB())])\n",
    "#Точность и полнота при поиске спама высоки: в 98% случаев то, что было помечено спамом - будет спамом\n",
    "#95% recall спама говорит о том, что классификатор отловил 95% спам-сообщений"
   ]
  },
  {
   "cell_type": "code",
   "execution_count": 18,
   "metadata": {
    "collapsed": false
   },
   "outputs": [
    {
     "name": "stdout",
     "output_type": "stream",
     "text": [
      "0.984520064984 0.00406243315594\n",
      "[0 0 0 ..., 0 0 0]\n",
      "             precision    recall  f1-score   support\n",
      "\n",
      "          0       0.98      0.99      0.99       956\n",
      "          1       0.95      0.89      0.92       159\n",
      "\n",
      "avg / total       0.98      0.98      0.98      1115\n",
      "\n"
     ]
    }
   ],
   "source": [
    "#  Naive Bayes, токенизация без знаков препинания,, стоп-слова удалены\n",
    "pipeline, label_predicted = trainmodel(steps=[('bow', CountVectorizer(analyzer=tokenize, stop_words=stop_words)),('classifier', MultinomialNB())])\n",
    "#recall чуть хуже, остальные параметры тоже, но это все равно высокий результат. \n",
    "#Судя по среднему числу, удаление стоп-слов пошло на пользу. С другой стороны, существенная разница лишь в recall спама"
   ]
  },
  {
   "cell_type": "code",
   "execution_count": 19,
   "metadata": {
    "collapsed": false
   },
   "outputs": [
    {
     "name": "stdout",
     "output_type": "stream",
     "text": [
      "0.959168097659 0.00662123491332\n",
      "[0 0 0 ..., 0 0 0]\n",
      "             precision    recall  f1-score   support\n",
      "\n",
      "          0       0.95      1.00      0.97       956\n",
      "          1       1.00      0.69      0.81       159\n",
      "\n",
      "avg / total       0.96      0.96      0.95      1115\n",
      "\n"
     ]
    }
   ],
   "source": [
    "# Naive Bayes, TfIdf-Vectorizer\n",
    "pipeline, label_predicted = trainmodel(steps=[('vect', CountVectorizer()),('tfidf', TfidfTransformer()),('classifier', MultinomialNB())])\n",
    "#хуже, чем CountVectorizer"
   ]
  },
  {
   "cell_type": "code",
   "execution_count": 20,
   "metadata": {
    "collapsed": false
   },
   "outputs": [
    {
     "name": "stdout",
     "output_type": "stream",
     "text": [
      "0.964553303492 0.00793423766228\n",
      "[0 0 0 ..., 0 0 0]\n",
      "             precision    recall  f1-score   support\n",
      "\n",
      "          0       0.98      0.98      0.98       956\n",
      "          1       0.89      0.85      0.87       159\n",
      "\n",
      "avg / total       0.96      0.96      0.96      1115\n",
      "\n"
     ]
    },
    {
     "data": {
      "image/png": "[encoded data removed]",
      "text/plain": [
       "<matplotlib.figure.Figure at 0x26afbd54fd0>"
      ]
     },
     "metadata": {},
     "output_type": "display_data"
    },
    {
     "data": {
      "image/png": "[encoded data removed]",
      "text/plain": [
       "<matplotlib.figure.Figure at 0x26afbd94f28>"
      ]
     },
     "metadata": {},
     "output_type": "display_data"
    }
   ],
   "source": [
    "# Decision tree, tf-idf\n",
    "pipeline, label_predicted = trainmodel(steps=[('vect', CountVectorizer()),('tfidf', TfidfTransformer()),('classifier', DecisionTreeClassifier())])\n",
    "\n",
    "draw_learning_curve(pipeline)\n",
    "draw_roc_curve(label_predicted)\n",
    "#Learning curve показывает, что увеличение обучающих данных практически ничего не даст. \n",
    "#AUC-value равен достаточно высокий, но хуже, чем у Naive Bayes и Random Forest\n",
    "#В отличие от остальных вариантов, cross-validation score имеет другую форму: сначала \"проседает\" при росте количества обучающих данных\n",
    "#а потом лишь чуть-чуть улучшается по сравнению со стартовым количеством\\"
   ]
  },
  {
   "cell_type": "code",
   "execution_count": 21,
   "metadata": {
    "collapsed": false
   },
   "outputs": [
    {
     "name": "stdout",
     "output_type": "stream",
     "text": [
      "0.970388955237 0.0065428039054\n",
      "[0 0 0 ..., 0 0 0]\n",
      "             precision    recall  f1-score   support\n",
      "\n",
      "          0       0.96      1.00      0.98       956\n",
      "          1       1.00      0.74      0.85       159\n",
      "\n",
      "avg / total       0.96      0.96      0.96      1115\n",
      "\n"
     ]
    },
    {
     "data": {
      "image/png": "[encoded data removed]",
      "text/plain": [
       "<matplotlib.figure.Figure at 0x26afbd13278>"
      ]
     },
     "metadata": {},
     "output_type": "display_data"
    },
    {
     "data": {
      "image/png": "[encoded data removed]",
      "text/plain": [
       "<matplotlib.figure.Figure at 0x26afbdbb2e8>"
      ]
     },
     "metadata": {},
     "output_type": "display_data"
    }
   ],
   "source": [
    "# Random Forest, tf-idf\n",
    "pipeline, label_predicted = trainmodel(steps=[('vect', CountVectorizer()),('tfidf', TfidfTransformer()),('classifier', RandomForestClassifier())])\n",
    "\n",
    "draw_learning_curve(pipeline)\n",
    "draw_roc_curve(label_predicted)\n",
    "#Заметный рост cross-validation score до 80 обучающих примеров, затем стагнация(после этого чуть-чуть увеличивается training score)"
   ]
  },
  {
   "cell_type": "code",
   "execution_count": null,
   "metadata": {
    "collapsed": true
   },
   "outputs": [],
   "source": [
    "#Итоги: Naive Bayes - лучший. Random Forest и Naive Bayes с tf-idf Vectorizer имеют лучшую точность вычисления спама(precision).\n",
    "#Хуже всего работает Decision Tree с tf-idf. Если судить по средним результатам, то лучше всего работает Naive Bayes.\n",
    "#В целом, все эти сравнения не сильно существенны, так как все варианты показывают хорошие результаты."
   ]
  }
 ],
 "metadata": {
  "kernelspec": {
   "display_name": "Python 3",
   "language": "python",
   "name": "python3"
  },
  "language_info": {
   "codemirror_mode": {
    "name": "ipython",
    "version": 3
   },
   "file_extension": ".py",
   "mimetype": "text/x-python",
   "name": "python",
   "nbconvert_exporter": "python",
   "pygments_lexer": "ipython3",
   "version": "3.6.0"
  }
 },
 "nbformat": 4,
 "nbformat_minor": 2
}
