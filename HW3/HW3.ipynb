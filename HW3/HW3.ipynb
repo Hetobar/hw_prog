{
 "cells": [
  {
   "cell_type": "code",
   "execution_count": 1,
   "metadata": {
    "collapsed": true
   },
   "outputs": [],
   "source": [
    "# -*- coding:utf -8-*-\n",
    "import operator\n",
    "import re\n",
    "import numpy as np\n",
    "import pandas as pd\n",
    "import matplotlib.pyplot as plt\n",
    "import seaborn as sns\n",
    "import itertools\n",
    "from sklearn.model_selection import train_test_split\n",
    "from nltk.corpus import stopwords\n",
    "from nltk import word_tokenize, wordpunct_tokenize\n",
    "from sklearn.feature_extraction.text import CountVectorizer, TfidfVectorizer\n",
    "from sklearn.metrics import classification_report, confusion_matrix\n",
    "from sklearn.dummy import DummyClassifier\n",
    "from sklearn.model_selection import cross_val_score\n",
    "from sklearn.datasets import make_classification\n",
    "\n",
    "%matplotlib inline\n",
    "sns.set(style=\"whitegrid\", color_codes=True)\n",
    "np.random.seed(sum(map(ord, \"categorical\")))"
   ]
  },
  {
   "cell_type": "code",
   "execution_count": 2,
   "metadata": {
    "collapsed": true
   },
   "outputs": [],
   "source": [
    "def tokenizator(text):\n",
    "    text = text.lower()\n",
    "    text = re.sub(\"[,;':.?!]\", '', text)\n",
    "    return word_tokenize(text)  "
   ]
  },
  {
   "cell_type": "code",
   "execution_count": 3,
   "metadata": {
    "collapsed": true
   },
   "outputs": [],
   "source": [
    "def lemmatizator(text):\n",
    "    lemmatizer = WordNetLemmatizer()\n",
    "    tokens = word_tokenize(text)\n",
    "    lemmas = [lemmatizer.lemmatize(token) for token in tokens]\n",
    "    return lemmas"
   ]
  },
  {
   "cell_type": "code",
   "execution_count": 4,
   "metadata": {
    "collapsed": false
   },
   "outputs": [],
   "source": [
    "#а почему бы не взять все сезоны сразу, хмм?\n",
    "f = pd.read_csv(\"D:\\\\All-seasons.csv\") \n",
    "f = f.dropna() "
   ]
  },
  {
   "cell_type": "code",
   "execution_count": 5,
   "metadata": {
    "collapsed": false
   },
   "outputs": [],
   "source": [
    "#Берем Кайла, Картмана, Стэна и Баттерса. Можно было бы взять Кенни, но он слишком мало говорит (еще меньше, чем Баттерс)\n",
    "Butters = (f.Character == \"Butters\")\n",
    "Cartman = (f.Character == \"Cartman\")\n",
    "Kyle = (f.Character == \"Kyle\")\n",
    "Stan = (f.Character == \"Stan\")\n",
    "\n",
    "B  = f[Butters]\n",
    "C = f[Cartman]\n",
    "K = f[Kyle]\n",
    "S = f[Stan]"
   ]
  },
  {
   "cell_type": "code",
   "execution_count": 6,
   "metadata": {
    "collapsed": false
   },
   "outputs": [
    {
     "name": "stdout",
     "output_type": "stream",
     "text": [
      "2602 9774 7099 7680\n"
     ]
    }
   ],
   "source": [
    "#количество фраз\n",
    "print(len(B), len(C), len(K), len(S))"
   ]
  },
  {
   "cell_type": "code",
   "execution_count": 7,
   "metadata": {
    "collapsed": true
   },
   "outputs": [],
   "source": [
    "characters = f[Cartman | Kyle | Stan | Butters]\n",
    "characters = characters.dropna()\n",
    "characters = characters.reset_index(drop=True)"
   ]
  },
  {
   "cell_type": "code",
   "execution_count": 8,
   "metadata": {
    "collapsed": true
   },
   "outputs": [],
   "source": [
    "#Деление выборки (80 к 20)\n",
    "X_train, X_test, y_train, y_test = train_test_split(characters['Line'], characters['Character'], test_size=0.2)"
   ]
  },
  {
   "cell_type": "code",
   "execution_count": 9,
   "metadata": {
    "collapsed": true
   },
   "outputs": [],
   "source": [
    "countvec = CountVectorizer(tokenizer = word_tokenize, stop_words = \"english\")\n",
    "bowed_fit_train = countvec.fit_transform(X_train)\n",
    "bowed_train = countvec.transform(X_train)\n",
    "bowed_test = countvec.transform(X_test) "
   ]
  },
  {
   "cell_type": "code",
   "execution_count": 10,
   "metadata": {
    "collapsed": false
   },
   "outputs": [
    {
     "name": "stdout",
     "output_type": "stream",
     "text": [
      "             precision    recall  f1-score   support\n",
      "\n",
      "    Butters       0.09      0.10      0.10       522\n",
      "    Cartman       0.35      0.36      0.36      1959\n",
      "       Kyle       0.26      0.26      0.26      1418\n",
      "       Stan       0.26      0.24      0.25      1532\n",
      "\n",
      "avg / total       0.28      0.28      0.28      5431\n",
      "\n",
      "0.723255385748\n"
     ]
    }
   ],
   "source": [
    "#Используем DummyClassifier как baseline классификатор\n",
    "dummy = DummyClassifier()\n",
    "dummy.fit(bowed_train, y_train)\n",
    "pred = dummy.predict(bowed_test)\n",
    "\n",
    "print(classification_report(y_test, pred)) \n",
    "error_test  = np.mean(y_test  != pred)\n",
    "print(error_test)\n",
    "#результат не очень"
   ]
  },
  {
   "cell_type": "code",
   "execution_count": 11,
   "metadata": {
    "collapsed": false
   },
   "outputs": [
    {
     "name": "stdout",
     "output_type": "stream",
     "text": [
      "             precision    recall  f1-score   support\n",
      "\n",
      "    Butters       0.75      0.19      0.30       522\n",
      "    Cartman       0.48      0.75      0.59      1959\n",
      "       Kyle       0.47      0.26      0.34      1418\n",
      "       Stan       0.43      0.41      0.42      1532\n",
      "\n",
      "avg / total       0.49      0.47      0.45      5431\n",
      "\n",
      "0.526974774443\n"
     ]
    }
   ],
   "source": [
    "#Naive Bayes:\n",
    "\n",
    "from sklearn.naive_bayes import MultinomialNB\n",
    "clf = MultinomialNB()\n",
    "clf.fit(bowed_train, y_train) \n",
    "pred = clf.predict(bowed_test)\n",
    "\n",
    "print(classification_report(y_test, pred)) \n",
    "error_test  = np.mean(y_test  != pred)\n",
    "print(error_test)\n",
    "#уже лучше, но все равно плохо"
   ]
  },
  {
   "cell_type": "code",
   "execution_count": 12,
   "metadata": {
    "collapsed": false
   },
   "outputs": [
    {
     "name": "stdout",
     "output_type": "stream",
     "text": [
      "             precision    recall  f1-score   support\n",
      "\n",
      "    Butters       0.41      0.22      0.29       522\n",
      "    Cartman       0.51      0.56      0.53      1959\n",
      "       Kyle       0.37      0.36      0.37      1418\n",
      "       Stan       0.37      0.40      0.39      1532\n",
      "\n",
      "avg / total       0.43      0.43      0.43      5431\n",
      "\n",
      "0.569876634137\n"
     ]
    }
   ],
   "source": [
    "#RandomForest:\n",
    "\n",
    "from sklearn.ensemble import RandomForestClassifier\n",
    "forest = RandomForestClassifier()\n",
    "forest.fit(bowed_train, y_train) \n",
    "pred = forest.predict(bowed_test)\n",
    "\n",
    "print(classification_report(y_test, pred)) \n",
    "error_test  = np.mean(y_test  != pred)\n",
    "print(error_test)\n",
    "#чуть хуже, чем байес"
   ]
  },
  {
   "cell_type": "code",
   "execution_count": 13,
   "metadata": {
    "collapsed": false
   },
   "outputs": [
    {
     "name": "stdout",
     "output_type": "stream",
     "text": [
      "             precision    recall  f1-score   support\n",
      "\n",
      "    Butters       0.31      0.22      0.26       522\n",
      "    Cartman       0.49      0.52      0.51      1959\n",
      "       Kyle       0.38      0.34      0.36      1418\n",
      "       Stan       0.37      0.41      0.39      1532\n",
      "\n",
      "avg / total       0.41      0.41      0.41      5431\n",
      "\n",
      "0.585159270853\n"
     ]
    }
   ],
   "source": [
    "#Decision Tree Classifier:\n",
    "\n",
    "from sklearn.tree import DecisionTreeClassifier\n",
    "tree = DecisionTreeClassifier()\n",
    "tree.fit(bowed_train, y_train) \n",
    "pred = tree.predict(bowed_test)\n",
    "\n",
    "print(classification_report(y_test, pred)) \n",
    "error_test  = np.mean(y_test  != pred)\n",
    "print(error_test)\n",
    "#и еще хуже (но все еще почти в полтора лучше, чем dummies)"
   ]
  },
  {
   "cell_type": "code",
   "execution_count": 14,
   "metadata": {
    "collapsed": false
   },
   "outputs": [
    {
     "name": "stdout",
     "output_type": "stream",
     "text": [
      "             precision    recall  f1-score   support\n",
      "\n",
      "    Butters       0.64      0.27      0.38       522\n",
      "    Cartman       0.55      0.64      0.59      1959\n",
      "       Kyle       0.44      0.34      0.38      1418\n",
      "       Stan       0.41      0.49      0.45      1532\n",
      "\n",
      "avg / total       0.49      0.48      0.47      5431\n",
      "\n",
      "0.517215982324\n"
     ]
    }
   ],
   "source": [
    "#Логистическая регрессия:\n",
    "\n",
    "from sklearn.linear_model import LogisticRegression\n",
    "log1 = LogisticRegression()\n",
    "log1.fit(bowed_train, y_train) \n",
    "pred = log1.predict(bowed_test)\n",
    "\n",
    "print(classification_report(y_test, pred)) \n",
    "error_test  = np.mean(y_test  != pred)\n",
    "print(error_test)\n",
    "#ну, вроде бы и лучше всех предыдущих, но все равно меньше 50% (хотя баттерс угадывается относительно хорошо"
   ]
  },
  {
   "cell_type": "code",
   "execution_count": 15,
   "metadata": {
    "collapsed": false
   },
   "outputs": [
    {
     "name": "stdout",
     "output_type": "stream",
     "text": [
      "             precision    recall  f1-score   support\n",
      "\n",
      "    Butters       0.42      0.45      0.43       522\n",
      "    Cartman       0.61      0.56      0.58      1959\n",
      "       Kyle       0.42      0.38      0.40      1418\n",
      "       Stan       0.42      0.49      0.45      1532\n",
      "\n",
      "avg / total       0.49      0.48      0.48      5431\n",
      "\n",
      "0.516663597864\n"
     ]
    }
   ],
   "source": [
    "#так как Баттерс у нас говорит в несколько раз реже, чем остальные, можно сбалансировать регрессию перед запуском\n",
    "\n",
    "log2 = LogisticRegression(class_weight = 'balanced')\n",
    "log2.fit(bowed_train, y_train) \n",
    "pred = log2.predict(bowed_test)\n",
    "\n",
    "print(classification_report(y_test, pred)) \n",
    "error_test  = np.mean(y_test  != pred)\n",
    "print(error_test)\n",
    "#ну...не сказать, что результаты сильно изменились"
   ]
  },
  {
   "cell_type": "code",
   "execution_count": 16,
   "metadata": {
    "collapsed": false
   },
   "outputs": [
    {
     "name": "stdout",
     "output_type": "stream",
     "text": [
      "[[ 234   96   75  117]\n",
      " [ 128 1089  303  439]\n",
      " [ 101  277  545  495]\n",
      " [  98  316  361  757]]\n"
     ]
    }
   ],
   "source": [
    "cm = confusion_matrix(y_test, pred)\n",
    "print(cm)\n",
    "# можно заметить, что вместо Кайла очень часто предполагает Стэна (почти 1к1)"
   ]
  },
  {
   "cell_type": "code",
   "execution_count": 17,
   "metadata": {
    "collapsed": true
   },
   "outputs": [],
   "source": [
    "def plot_confusion_matrix(cm, classes,\n",
    "                          normalize=False,\n",
    "                          title='Confusion matrix',\n",
    "                          cmap=plt.cm.Blues):\n",
    "    \"\"\"\n",
    "    This function prints and plots the confusion matrix.\n",
    "    Normalization can be applied by setting `normalize=True`.\n",
    "    \"\"\"\n",
    "    plt.imshow(cm, interpolation='nearest', cmap=cmap)\n",
    "    plt.title(title)\n",
    "    plt.colorbar()\n",
    "    tick_marks = np.arange(len(classes))\n",
    "    plt.xticks(tick_marks, classes, rotation=45)\n",
    "    plt.yticks(tick_marks, classes)\n",
    "\n",
    "    if normalize:\n",
    "        cm = cm.astype('float') / cm.sum(axis=1)[:, np.newaxis]\n",
    "        print(\"Normalized confusion matrix\")\n",
    "    else:\n",
    "        print('Confusion matrix, without normalization')\n",
    "\n",
    "    print(cm)\n",
    "\n",
    "    thresh = cm.max() / 2.\n",
    "    for i, j in itertools.product(range(cm.shape[0]), range(cm.shape[1])):\n",
    "        plt.text(j, i, cm[i, j],\n",
    "                 horizontalalignment=\"center\",\n",
    "                 color=\"white\" if cm[i, j] > thresh else \"black\")\n",
    "\n",
    "    plt.tight_layout()\n",
    "    plt.ylabel('True label')\n",
    "    plt.xlabel('Predicted label')\n"
   ]
  },
  {
   "cell_type": "code",
   "execution_count": 18,
   "metadata": {
    "collapsed": true
   },
   "outputs": [],
   "source": [
    "# Compute confusion matrix\n",
    "cnf_matrix = confusion_matrix(y_test, pred)"
   ]
  },
  {
   "cell_type": "code",
   "execution_count": 19,
   "metadata": {
    "collapsed": false
   },
   "outputs": [
    {
     "name": "stdout",
     "output_type": "stream",
     "text": [
      "Confusion matrix, without normalization\n",
      "[[ 234   96   75  117]\n",
      " [ 128 1089  303  439]\n",
      " [ 101  277  545  495]\n",
      " [  98  316  361  757]]\n"
     ]
    },
    {
     "data": {
      "image/png": "[encoded data removed]",
      "text/plain": [
       "<matplotlib.figure.Figure at 0x15510157c50>"
      ]
     },
     "metadata": {},
     "output_type": "display_data"
    }
   ],
   "source": [
    "# Собственно, ненормализованная матрица:\n",
    "plt.figure()\n",
    "plot_confusion_matrix(cnf_matrix, classes= ['Randy', 'Cartman', 'Kyle', 'Stan'],\n",
    "                      title='South Park Logistic Regession')"
   ]
  },
  {
   "cell_type": "code",
   "execution_count": 20,
   "metadata": {
    "collapsed": false
   },
   "outputs": [
    {
     "name": "stdout",
     "output_type": "stream",
     "text": [
      "Normalized confusion matrix\n",
      "[[ 0.44827586  0.18390805  0.14367816  0.22413793]\n",
      " [ 0.06533946  0.55589587  0.15467075  0.22409393]\n",
      " [ 0.07122708  0.19534556  0.38434415  0.34908322]\n",
      " [ 0.06396867  0.20626632  0.23563969  0.49412533]]\n"
     ]
    },
    {
     "data": {
      "image/png": "[encoded data removed]",
      "text/plain": [
       "<matplotlib.figure.Figure at 0x155139d8a20>"
      ]
     },
     "metadata": {},
     "output_type": "display_data"
    }
   ],
   "source": [
    "# и нормализованная:\n",
    "plt.figure()\n",
    "plot_confusion_matrix(cnf_matrix, classes=['Randy', 'Cartman', 'Kyle', 'Stan'], normalize=True,\n",
    "                      title='Normalized confusion matrix')"
   ]
  },
  {
   "cell_type": "code",
   "execution_count": 21,
   "metadata": {
    "collapsed": false
   },
   "outputs": [
    {
     "name": "stdout",
     "output_type": "stream",
     "text": [
      "['Butters' 'Cartman' 'Kyle' 'Stan']\n",
      "[[ -1.96355544e-02  -3.81550364e-01  -9.08979456e-01 ...,  -1.81585005e-02\n",
      "   -1.20103663e-04  -5.89355316e-05]\n",
      " [  3.31240735e-01  -5.73449206e-02   5.55312084e-01 ...,   2.08027390e-01\n",
      "   -1.11169470e-01   3.82094825e-01]\n",
      " [ -5.11987656e-02   1.40772389e-01   2.68054789e-02 ...,  -1.46494821e-01\n",
      "   -1.40529673e-02  -8.39204995e-02]\n",
      " [ -5.23946890e-01   1.15401225e-01  -3.21407959e-01 ...,  -7.64909798e-02\n",
      "    2.67144384e-02  -2.09081949e-01]]\n",
      "[-1.39173306 -1.52979981 -0.79204229 -0.5592067 ]\n"
     ]
    }
   ],
   "source": [
    "print(log2.classes_)\n",
    "print(log2.coef_)\n",
    "print(log2.intercept_)\n",
    "#есть массивы с признаками, каждый массив соответствует одному из классов (имена персонажей). Каждый признак выражен\n",
    "#коэффициентом, который показывает принадлежность признака к какому-то из персонажей.\n",
    "#то есть если признак положительный, то он повышает вероятность принадлежности фразы к персонажу\n",
    "#отрицательный признак наоборот говорит о том, что реплика персонажу не принадлежит.\n",
    "#чем больше число по модулю, тем сильнее вероятность (в ту или иную сторону)"
   ]
  },
  {
   "cell_type": "code",
   "execution_count": 22,
   "metadata": {
    "collapsed": false
   },
   "outputs": [
    {
     "name": "stdout",
     "output_type": "stream",
     "text": [
      "             precision    recall  f1-score   support\n",
      "\n",
      "    Butters       0.41      0.48      0.44       522\n",
      "    Cartman       0.57      0.62      0.60      1959\n",
      "       Kyle       0.43      0.35      0.38      1418\n",
      "       Stan       0.43      0.43      0.43      1532\n",
      "\n",
      "avg / total       0.48      0.48      0.48      5431\n",
      "\n"
     ]
    }
   ],
   "source": [
    "#Tf-Idf Vectorizer вместо CountVectorizer\n",
    "tf = TfidfVectorizer(tokenizer=word_tokenize , stop_words=\"english\")\n",
    "tr_tf = tf.fit_transform(X_train)\n",
    "tst_tf = tf.transform(X_test)\n",
    "Log3 = LogisticRegression(class_weight = 'balanced')\n",
    "Log3.fit(tr_tf, y_train)\n",
    "pred = Log3.predict(tst_tf)\n",
    "print(classification_report(y_test, pred)) \n",
    "#хуже угадывает Баттерса, но в целом то же самое (но чуть хуже)"
   ]
  },
  {
   "cell_type": "code",
   "execution_count": 23,
   "metadata": {
    "collapsed": false
   },
   "outputs": [
    {
     "name": "stdout",
     "output_type": "stream",
     "text": [
      "Axes(0.125,0.125;0.775x0.755)\n"
     ]
    },
    {
     "data": {
      "image/png": "[encoded data removed]",
      "text/plain": [
       "<matplotlib.figure.Figure at 0x15513e53358>"
      ]
     },
     "metadata": {},
     "output_type": "display_data"
    }
   ],
   "source": [
    "#Некоторые герои говорят более длинными фразами. Того же Кайла не раз упрекали в его \"двигании речей\".\n",
    "#Проверим по этой фиче\n",
    "\n",
    "characters['length'] = characters['Line'].map(lambda text: len(text)) \n",
    "\n",
    "print(sns.barplot(x=\"Character\", y=\"length\",  data=characters))\n",
    "#хм...в итоге оказалось, что Кайл и Стэн как раз говорят короткими фразами (относительно Картмана, у которого длина фразы 72 и Баттерса с 60)"
   ]
  },
  {
   "cell_type": "code",
   "execution_count": 24,
   "metadata": {
    "collapsed": true
   },
   "outputs": [],
   "source": [
    "#попробуем предугадать персонажей с учетом длины слов\n",
    "characters['length'].fillna((characters['length'].mean()), inplace=True)"
   ]
  },
  {
   "cell_type": "code",
   "execution_count": 25,
   "metadata": {
    "collapsed": false
   },
   "outputs": [
    {
     "data": {
      "text/plain": [
       "RandomForestClassifier(bootstrap=True, class_weight=None, criterion='gini',\n",
       "            max_depth=None, max_features='auto', max_leaf_nodes=None,\n",
       "            min_impurity_split=1e-07, min_samples_leaf=1,\n",
       "            min_samples_split=2, min_weight_fraction_leaf=0.0,\n",
       "            n_estimators=10, n_jobs=1, oob_score=False, random_state=None,\n",
       "            verbose=0, warm_start=False)"
      ]
     },
     "execution_count": 25,
     "metadata": {},
     "output_type": "execute_result"
    }
   ],
   "source": [
    "X, y  = characters['length'], characters['Character']\n",
    "X = X[:, None]\n",
    "X_train, X_test, y_train, y_test = train_test_split(X, y, test_size=0.2)\n",
    "\n",
    "rf = RandomForestClassifier()\n",
    "rf.fit(X_train, y_train)"
   ]
  },
  {
   "cell_type": "code",
   "execution_count": 26,
   "metadata": {
    "collapsed": false
   },
   "outputs": [
    {
     "name": "stdout",
     "output_type": "stream",
     "text": [
      "             precision    recall  f1-score   support\n",
      "\n",
      "    Butters       0.07      0.00      0.00       518\n",
      "    Cartman       0.40      0.68      0.50      1954\n",
      "       Kyle       0.32      0.15      0.20      1430\n",
      "       Stan       0.32      0.29      0.30      1529\n",
      "\n",
      "avg / total       0.32      0.37      0.32      5431\n",
      "\n"
     ]
    }
   ],
   "source": [
    "pred = rf.predict(X_test)\n",
    "print(classification_report(y_test, pred))"
   ]
  },
  {
   "cell_type": "code",
   "execution_count": 27,
   "metadata": {
    "collapsed": false
   },
   "outputs": [
    {
     "name": "stdout",
     "output_type": "stream",
     "text": [
      "             precision    recall  f1-score   support\n",
      "\n",
      "    Butters       0.00      0.00      0.00       518\n",
      "    Cartman       0.36      1.00      0.53      1954\n",
      "       Kyle       0.00      0.00      0.00      1430\n",
      "       Stan       0.00      0.00      0.00      1529\n",
      "\n",
      "avg / total       0.13      0.36      0.19      5431\n",
      "\n"
     ]
    },
    {
     "name": "stderr",
     "output_type": "stream",
     "text": [
      "D:\\Anaconda\\lib\\site-packages\\sklearn\\metrics\\classification.py:1113: UndefinedMetricWarning: Precision and F-score are ill-defined and being set to 0.0 in labels with no predicted samples.\n",
      "  'precision', 'predicted', average, warn_for)\n"
     ]
    }
   ],
   "source": [
    "#Байес\n",
    "b = MultinomialNB()\n",
    "b.fit(X_train, y_train)\n",
    "\n",
    "pred = b.predict(X_test)\n",
    "print(classification_report(y_test, pred)) "
   ]
  },
  {
   "cell_type": "code",
   "execution_count": 28,
   "metadata": {
    "collapsed": false
   },
   "outputs": [
    {
     "name": "stdout",
     "output_type": "stream",
     "text": [
      "             precision    recall  f1-score   support\n",
      "\n",
      "    Butters       0.00      0.00      0.00       518\n",
      "    Cartman       0.43      0.54      0.48      1954\n",
      "       Kyle       0.00      0.00      0.00      1430\n",
      "       Stan       0.31      0.61      0.41      1529\n",
      "\n",
      "avg / total       0.24      0.37      0.29      5431\n",
      "\n"
     ]
    },
    {
     "name": "stderr",
     "output_type": "stream",
     "text": [
      "D:\\Anaconda\\lib\\site-packages\\sklearn\\metrics\\classification.py:1113: UndefinedMetricWarning: Precision and F-score are ill-defined and being set to 0.0 in labels with no predicted samples.\n",
      "  'precision', 'predicted', average, warn_for)\n"
     ]
    }
   ],
   "source": [
    "#Регрессия\n",
    "log3 = LogisticRegression(class_weight = 'balanced')\n",
    "log3.fit(X_train, y_train) \n",
    "\n",
    "pred = log3.predict(X_test)\n",
    "print(classification_report(y_test, pred)) \n"
   ]
  },
  {
   "cell_type": "code",
   "execution_count": null,
   "metadata": {
    "collapsed": true
   },
   "outputs": [],
   "source": [
    "#Получилось не очень: Кайл и Стэн предугадываются очень плохо/никак не предугадываются, и из-за этого страдает эффективность в целом.\n",
    "#Таким образом получается, что лучше не изобретать что-то новое, а использовать LogisticRegression с данными, векторизированными\n",
    "#через CountVectorizer"
   ]
  }
 ],
 "metadata": {
  "kernelspec": {
   "display_name": "Python 3",
   "language": "python",
   "name": "python3"
  },
  "language_info": {
   "codemirror_mode": {
    "name": "ipython",
    "version": 3
   },
   "file_extension": ".py",
   "mimetype": "text/x-python",
   "name": "python",
   "nbconvert_exporter": "python",
   "pygments_lexer": "ipython3",
   "version": "3.6.0"
  }
 },
 "nbformat": 4,
 "nbformat_minor": 2
}
